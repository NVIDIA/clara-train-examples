{
 "cells": [
  {
   "cell_type": "markdown",
   "metadata": {},
   "source": [
    "# Part 3: DICOMweb\n",
    "\n",
    "by Brad Genereaux, Medical Imaging Alliance Manager, NVIDIA"
   ]
  },
  {
   "cell_type": "markdown",
   "metadata": {},
   "source": [
    "## Contents\n",
    "* [DICOMweb Concepts](#dicom)\n",
    "* [STOW-RS](#dicom)\n",
    "* [QIDO-RS](#dicom)\n",
    "* [WADO-RS](#dicom)\n",
    "* [UPS-RS](#tutorial1)\n",
    "* [Capabilities](#tutorial1)\n",
    "* [Resources](#resources)"
   ]
  },
  {
   "cell_type": "markdown",
   "metadata": {},
   "source": [
    "## DICOMweb <a id=\"dicomweb\"></a>\n",
    "\n",
    "### What is DICOMweb?\n",
    "* HTTP-driven services for access to DICOM services, using REST architecture\n",
    "* Incremental capability enhancements for DICOM-enabled systems where necessary\n",
    "  * i.e., image-producing modalities don’t all need to be retrofitted to support DICOMweb – it is leveraged where it is needed\n",
    "\n",
    "![dicomweb.png](images/dicomweb.png)\n",
    "\n",
    "### DICOMweb™ Services\n",
    "* Query\n",
    "  * QIDO-RS (Query based on ID for DICOM Objects)\n",
    "  * DICOM PS3.18 10.6 \n",
    "* Retrieve\n",
    "  * WADO-RS (Web Access of DICOM Objects)\n",
    "  * DICOM PS3.18 10.4 \n",
    "* Store\n",
    "  * STOW-RS (Store over the web)\n",
    "  * DICOM PS3.18 10.5\n",
    "* Tasks\n",
    "  * UPS-RS (Worklist Service)\n",
    "  * DICOM PS3.18 11\n",
    "* Server Info\n",
    "  * Capabilities Service\n",
    "  * DICOM PS3.18 8.9\n"
   ]
  },
  {
   "cell_type": "markdown",
   "metadata": {},
   "source": [
    "### Store STOW-RS\n",
    "\n",
    "This feature allows storage of DICOM.\n",
    "\n",
    "![stow](images/stow.png)"
   ]
  },
  {
   "cell_type": "code",
   "execution_count": null,
   "metadata": {
    "scrolled": false
   },
   "outputs": [],
   "source": [
    "import requests\n",
    "\n",
    "def constructStowMessage(url, file):\n",
    "  body = bytearray()\n",
    "\n",
    "  dicomFile = open(file, 'rb')\n",
    "  dicomContent = dicomFile.read()\n",
    "  body += bytearray('--MESSAGEBOUNDARY\\r\\n', 'ascii')\n",
    "  body += bytearray('Content-Length: ' + str(len(content)) + '\\r\\n', 'ascii')\n",
    "  body += bytearray('Content-Type: application/dicom\\r\\n\\r\\n', 'ascii')\n",
    "  body += content\n",
    "  body += bytearray('\\r\\n', 'ascii')\n",
    "\n",
    "  body += bytearray('--MESSAGEBOUNDARY--', 'ascii')\n",
    "\n",
    "  headers = {\n",
    "    'Content-Type' : 'multipart/related; type=application/dicom; boundary=MESSAGEBOUNDARY',\n",
    "    'Accept' : 'application/dicom+xml',\n",
    "  }\n",
    "\n",
    "  r = requests.post(url, data=body, headers=headers)\n",
    "    \n",
    "  print(r)\n",
    "\n",
    "constructStowMessage('http://localhost:8042/dicom-web/studies', '/workshop/content/dicom/2.25.181415030807001972359991010807232733333.dcm')\n",
    "constructStowMessage('http://localhost:8042/dicom-web/studies', '/workshop/content/dicom/2.25.247344124098937569106860417009685397153.dcm')\n",
    "constructStowMessage('http://localhost:8042/dicom-web/studies', '/workshop/content/dicom/2.25.332098087959527554149531786965712051905.dcm')\n"
   ]
  },
  {
   "cell_type": "markdown",
   "metadata": {},
   "source": [
    "## Query (QIDO-RS) <a id=\"qido\"></a>\n",
    "\n",
    "This REST feature allows for querying the DICOM server. \n",
    "![qido.png](images/qido.png)"
   ]
  },
  {
   "cell_type": "markdown",
   "metadata": {},
   "source": [
    "#### Query all studies"
   ]
  },
  {
   "cell_type": "code",
   "execution_count": null,
   "metadata": {
    "scrolled": true
   },
   "outputs": [],
   "source": [
    "import requests\n",
    " \n",
    "url = \"http://localhost:8042/dicom-web/studies/\"\n",
    "querystring = {}\n",
    "headers = {\n",
    "    'Accept': \"application/dicom+xml\"\n",
    "    }\n",
    " \n",
    "response = requests.request(\"GET\", url, data=\"\", headers=headers, params=querystring)\n",
    "print(response.text)"
   ]
  },
  {
   "cell_type": "markdown",
   "metadata": {},
   "source": [
    "#### Query all studies in JSON\n"
   ]
  },
  {
   "cell_type": "code",
   "execution_count": null,
   "metadata": {},
   "outputs": [],
   "source": [
    "import requests\n",
    " \n",
    "url = \"http://localhost:8042/dicom-web/studies/\"\n",
    "querystring = {}\n",
    "headers = {\n",
    "    'Accept': \"application/json\"\n",
    "    }\n",
    " \n",
    "response = requests.request(\"GET\", url, data=\"\", headers=headers, params=querystring)\n",
    "print(response.text)"
   ]
  },
  {
   "cell_type": "markdown",
   "metadata": {},
   "source": [
    "#### Only look for patients named Patches\n"
   ]
  },
  {
   "cell_type": "code",
   "execution_count": null,
   "metadata": {},
   "outputs": [],
   "source": [
    "import requests\n",
    " \n",
    "url = \"http://localhost:8042/dicom-web/studies/\"\n",
    "querystring = {'PatientName' : '*PATCH*'}\n",
    "headers = {\n",
    "    'Accept': \"application/json\"\n",
    "    }\n",
    " \n",
    "response = requests.request(\"GET\", url, data=\"\", headers=headers, params=querystring)\n",
    "print(response.text)"
   ]
  },
  {
   "cell_type": "markdown",
   "metadata": {},
   "source": [
    "#### Get Study Structure"
   ]
  },
  {
   "cell_type": "code",
   "execution_count": null,
   "metadata": {},
   "outputs": [],
   "source": [
    "import requests\n",
    "import json\n",
    " \n",
    "url = \"http://localhost:8042/dicom-web/studies/\"\n",
    "querystring = {'PatientName' : '*PATCH*'}\n",
    "headers = {\n",
    "    'Accept': \"application/json\"\n",
    "    }\n",
    " \n",
    "response = requests.request(\"GET\", url, data=\"\", headers=headers, params=querystring)\n",
    "print (\"Study details\", response.text)\n",
    "jsonResponse = json.loads(response.text)\n",
    "\n",
    "# extract study URL\n",
    "url = jsonResponse[0][\"00081190\"][\"Value\"][0] + '/series'\n",
    "\n",
    "response = requests.request(\"GET\", url, data=\"\", headers=headers, params={})\n",
    "print (\"Series details\", response.text)\n",
    "\n",
    "# extract series URL\n",
    "url = jsonResponse[0][\"00081190\"][\"Value\"][0] + '/instances'\n",
    "\n",
    "response = requests.request(\"GET\", url, data=\"\", headers=headers, params={})\n",
    "print (\"Instance details\", response.text)\n"
   ]
  },
  {
   "cell_type": "markdown",
   "metadata": {},
   "source": [
    "| Key\tValue\tDescription\n",
    "|---|---|---|\n",
    "| {attributeID}\t{value}\tQuery matching on supplied value\n",
    "| includefield\t{attribute} | all\tInclude supplied DICOM header values in result\n",
    "| fuzzymatching\ttrue | false\tWhether query should use fuzzy matching\n",
    "| limit\t{n}\tReturn only {n} results\n",
    "| offset\t{n}\tSkip {n} results\n"
   ]
  },
  {
   "cell_type": "markdown",
   "metadata": {},
   "source": [
    "### Retrieve WADO-RS\n",
    "\n",
    "This function allows retrieval of objects.\n",
    "\n",
    "![wado](images/wado.png)\n",
    "\n",
    "#### Parameters\n",
    "Key\tValue\tDescription\n",
    "annotation\t“patient” / “technique”\tAdd burned-in demographics / procedure details\n",
    "quality\t{n}\tQuality of image (lossy factor)\n",
    "viewport\tvw,vh / sx,sy,sw,sh\tWidth and height, or crop to specific region\n",
    "window\tcentre,width,shape\tCenter of the range of gray scale in the image\n",
    "\n",
    "\n",
    "#### Media Types\n",
    "Category\tMedia Type\tSupport\n",
    "Single Frame Image\timage/jpeg\tdefault\n",
    "\timage/gif\trequired\n",
    "\timage/png\trequired\n",
    "\timage/jp2\toptional\n",
    "Multi-frame Image\timage/gif\toptional\n",
    "Video\tvideo/mpeg\toptional\n",
    "\tvideo/mp4\toptional\n",
    "\tvideo/H265\toptional\n",
    "Text\ttext/html\tdefault\n",
    "\ttext/plain\trequired\n",
    "\ttext/xml\trequired\n",
    "\ttext/rtf\toptional\n",
    "\tapplication/pdf\toptional\n",
    "\n",
    "\n",
    "#### Retrieve\n",
    "http://localhost:8042/dicom-web/studies/2.25.181415030807001972359991010807232733333/series/2.25.263199988706778821124470610148504657693/instances/2.25.151452936138791659029741275967428777840"
   ]
  },
  {
   "cell_type": "markdown",
   "metadata": {},
   "source": [
    "### Workflow UPS-RS\n",
    "\n",
    "This feature allows workflow of DICOM.\n",
    "\n",
    "![ups](images/ups.png)"
   ]
  },
  {
   "cell_type": "markdown",
   "metadata": {},
   "source": [
    "### Capabilities\n",
    "\n",
    "This feature allows query of capabilities\n",
    "\n",
    "![capabilities](images/capabilities.png)"
   ]
  },
  {
   "cell_type": "markdown",
   "metadata": {},
   "source": [
    "## Study thumbnail\n",
    "\n",
    "## Download Zip\n",
    "\n",
    "## Re-Doc\n",
    "\n",
    "## Cheatsheet\n",
    "![cheatsheet](images/cheatsheet.png)"
   ]
  }
 ],
 "metadata": {
  "kernelspec": {
   "display_name": "Python 3",
   "language": "python",
   "name": "python3"
  },
  "language_info": {
   "codemirror_mode": {
    "name": "ipython",
    "version": 3
   },
   "file_extension": ".py",
   "mimetype": "text/x-python",
   "name": "python",
   "nbconvert_exporter": "python",
   "pygments_lexer": "ipython3",
   "version": "3.6.9"
  }
 },
 "nbformat": 4,
 "nbformat_minor": 4
}
