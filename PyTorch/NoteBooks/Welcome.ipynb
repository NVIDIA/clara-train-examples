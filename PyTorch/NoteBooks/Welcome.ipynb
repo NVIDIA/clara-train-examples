{
  "cells": [
    {
      "cell_type": "markdown",
      "source": "# Clara Train SDK V4.1",
      "metadata": {
        "pycharm": {
          "metadata": false
        }
      }
    },
    {
      "cell_type": "markdown",
      "source": "Welcome to Clara Train SDK. \nThis SDK comes with many features to maximize productivity and minimizes training time.\n\u003cbr\u003e \n\u003cbr\u003e\u003cimg src\u003d\"screenShots/ClaraAI.png\" alt\u003d\"Drawing\" style\u003d\"height: 400px;\"/\u003e\u003cbr\u003e",
      "metadata": {
        "pycharm": {
          "metadata": false
        }
      }
    },
    {
      "cell_type": "markdown",
      "source": "This SDK aims to have data scientist focus on the medical problem\nwhile having NVIDIA\u0027s software engineers focus on training optimization, \nincluding full gpu utilization and multi-GPU training\u003cbr\u003e\n\u003cbr\u003e\n\u003cbr\u003e\u003cimg src\u003d\"screenShots/whyUseSDK.png\" alt\u003d\"Drawing\" style\u003d\"height: 450px;\"/\u003e\u003cbr\u003e\n\n",
      "metadata": {
        "pycharm": {
          "metadata": false
        }
      }
    },
    {
      "cell_type": "markdown",
      "source": "## Resources\nYou could watch the free GTC 2021 talks covering Clara Train SDK\n- [Clara Train 4.0 - 101 Getting Started [SE2688]](https://www.nvidia.com/en-us/on-demand/session/gtcspring21-se2688/)\n- [Clara Train 4.0 - 201 Federated Learning [SE3208]](https://www.nvidia.com/en-us/on-demand/session/gtcspring21-se3208/)\n- [Take Medical AI from Concept to Production using Clara Imaging [S32482]](https://www.nvidia.com/en-us/on-demand/session/gtcspring21-s32482/)\n- [Federated Learning for Medical AI [S32530]](https://www.nvidia.com/en-us/on-demand/session/gtcspring21-s32530/) \n- [Get Started Now on Medical Imaging AI with Clara Train on Google Cloud Platform [S32518]](https://www.nvidia.com/en-us/on-demand/session/gtcspring21-s32518/)\n- [Automate 3D Medical Imaging Segmentation with AutoML and Neural Architecture Search [S32083]](https://www.nvidia.com/en-us/on-demand/session/gtcspring21-s32083/)\n- [A Platform for Rapid Development and Clinical Translation of ML Models for Applications in Radiology at UCSF [S31619]](https://www.nvidia.com/en-us/on-demand/session/gtcspring21-s31619/)\n\nYou could watch the free GTC 2020 talks covering Clara Train SDK V3 (TensorFlow based)\n- [Clara train Getting started: cover basics, BYOC, AIAA, AutoML [S22563]](https://developer.nvidia.com/gtc/2020/video/S22563) \n- [Clara train Performance: Different aspects of acceleration in train V3 [S22717]](https://developer.nvidia.com/gtc/2020/video/S22717)\n- [Clara Developer Day: Federated Learning using Clara Train SDK [S22564]](https://developer.nvidia.com/gtc/2020/video/S22564)\n",
      "metadata": {
        "pycharm": {
          "metadata": false
        }
      }
    },
    {
      "cell_type": "markdown",
      "source": "Table below shows different features in clara train for different releases\n\nRelease | Module | Feature \n :--- | :---: | ---\nR4.1 April 2022 | Train | Using [Monai 0.8.1](https://monai.io/) \n   | AIAA | Moved to using [Monai Label](https://github.com/Project-MONAI/MONAILabel)\n   | FL | Moved to using [NVFlare](https://github.com/NVIDIA/NVFlare)\nR4 April 2021 | Train | Moved to PyTorch using [Monai](https://monai.io/)\n   | AIAA | Deep Grow 3D pre-trained model for inference \n   | AIAA | Enable user to train 2D deep grow models \n   | AIAA | Enable user to train 3D deep grow models \n   | FL | Bring your own trainer   \n   | FL | Support for Homomorphic_Encryption    \n   | Domain Examples| Accelerated training digital pathology  \nR3.1 Nov 2020 | Train | AMP show 40% memory reduction with BN\n   | AIAA | Ability to run AIAA using docker in user mode/ singularity\n   | AutoML| New admin console \n   | AutoML| Expose more APIs to integrate with 3rd parties as MLflow  \n   | Federated learning | New provisioning paradigm   \n   | Federated learning | Running FL experiments from Admin shell    \n   | Federated learning | Bring your own aggregation and privacy  \nR3 April 2020 | Train | New optimizer (NovoGrad)\n   | Train | New pipeline (Keras)\n   | Train | New Batch with Caching\n   | AIAA | Deep Grow 2d model inference  \n   | AutoML| New Feature \nR2 Dec 2019 | Train | Auto mix precision support (AMP)\n   | Train | Deterministic support\n   | Train | New loss functions (Focal, Cross entropy) \n   | Train | New Models (Unet, Unet parallel, Alexnet)\n   | Train | Smart Caching \n   | AIAA | PyTorch support\n   | AIAA | 3D slicer as a client \n   | Federated learning | New feature \nR1 May 2019 | Train | Reproducible science with MMAR structure\n   | Train | Single GPU Training     \n   | Train | Multiple GPU acceleration with MPI and Horovod  \n   | Train | Out of box: Models, losses, metric, optimizer, 2d and 3D elastic transformation\n   | Train | Bring your own components: Models, losses, transforms, metric  \n   | AIAA | Segmentation and Annotation models\n   | AIAA | MITK as a client   \n\n",
      "metadata": {
        "pycharm": {
          "metadata": false
        }
      }
    }
  ],
  "metadata": {
    "language_info": {
      "codemirror_mode": {
        "name": "ipython",
        "version": 2
      },
      "file_extension": ".py",
      "mimetype": "text/x-python",
      "name": "python",
      "nbconvert_exporter": "python",
      "pygments_lexer": "ipython2",
      "version": "2.7.6"
    },
    "kernelspec": {
      "name": "pycharm-e5c8d846",
      "language": "python",
      "display_name": "PyCharm (claraTrain2.0)"
    },
    "stem_cell": {
      "cell_type": "raw",
      "source": "\u003c!--- SPDX-License-Identifier: Apache-2.0 --\u003e\n",
      "metadata": {
        "pycharm": {
          "metadata": false
        }
      }
    }
  },
  "nbformat": 4,
  "nbformat_minor": 0
}