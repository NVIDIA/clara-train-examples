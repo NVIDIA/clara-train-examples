{
  "cells": [
    {
      "cell_type": "markdown",
      "metadata": {
        "collapsed": true,
        "pycharm": {
          "name": "#%% md\n"
        }
      },
      "source": "# AI Assisted Annotation with OHIF\n\nZero foot print Dicom viewers are ideal for radiology workflow. \n[Open Health Imaging Foundation (OHIF)](http://ohif.org/) Viewer is an open source, web-based, medical imaging viewer. \nIt can be configured to connect to Image Archives that support DicomWeb, \nand offers support for mapping to proprietary API formats. \nOHIF maintained extensions add support for viewing, annotating, \nand reporting on DICOM images in 2D (slices) and 3D (volumes). \nOHIF by it self is a web viewer that requires a PACS on the back end to hold the dicom images. \nYou can use either [Dcm4chee](https://github.com/dcm4che/dcm4chee-arc-light/wiki) or [Orthanc](https://www.orthanc-server.com/). \n\nFor this we expand on how to use OHIF with AIAA. \nThis note book will guide your through how to set up \n- OHIF web viewer with Nvidia AIAA integration \n- Orthanc\n- This current notebooks \n"
    },
    {
      "cell_type": "markdown",
      "source": "## Prerequisites\n- Nvidia GPU with 8Gb of memory\n- Going through [AIAA Notebook](AIAA.ipynb) to get basic understanding of AIAA.    \n- For trouble shot, basic understanding of docker and docker compose is recommended \n",
      "metadata": {
        "pycharm": {
          "metadata": false
        }
      }
    },
    {
      "cell_type": "markdown",
      "source": "# 0. Licensing\n\n### 0.1 ORTHANC License\nThis note book will help you set up ORTHANC as a pacs back end to OHIF. \nPlease read through the license of ORTHANC and its plugins \nhttps://book.orthanc-server.com/faq/licensing.html\n\nPlease note: ORTHANC has plugins which in turn has more restrictive licenses as \n- Orthanc Core: GPL v3 https://hg.orthanc-server.com/orthanc/file/tip/COPYING\n- Web viewer: AGPL v3 https://hg.orthanc-server.com/orthanc-webviewer/file/tip/COPYING\n- PostgreSQL Support: AGPL v3 https://hg.orthanc-server.com/orthanc-postgresql/file/tip/COPYING\n- DICOMweb Support: AGPL v3 https://hg.orthanc-server.com/orthanc-dicomweb/file/tip/COPYING\n- Whole slide imaging: AGPL v3 https://hg.orthanc-server.com/orthanc-wsi/file/tip/COPYING\n\nORTHANC will be pulled as a docker image as it is specified in the docker compose file\n```\n  orthanc:\n    image: jodogne/orthanc-plugins:1.9.1 # Orthanc docker image with plugins\n```\n### 0.2 Nginx License\nDocker compose will set up OHIF which in turn uses [Nginx](https://nginx.org/en/) \nfrom their website it states \n\"The sources and documentation are distributed under the [2-clause BSD-like license](https://nginx.org/LICENSE)\"\n   ",
      "metadata": {
        "pycharm": {
          "metadata": false
        }
      }
    },
    {
      "cell_type": "markdown",
      "source": "## 1. Setup OHIF \nNvidia has integrated AIAA into OHIF as a plugin. \nWe have packaged all under OHIF-Orthanc sub-folder. \nThis will launch OHIF with Orthanc and this current notebooks.\u003cbr\u003e\n**Note: You need to close this docker container before doing steps below. \nYou can do this by running `scripts/stopClaraTrainNoteBooks.sh`** \u003cbr\u003e \nThese steps will launch multiple dockers as shown below\n\u003cbr\u003e\u003cimg src\u003d\"screenShots/ThreeDockers.png\" alt\u003d\"Drawing\" style\u003d\"height: 300px;\"/\u003e\u003cbr\u003e\n\n1. Open terminal on your bare bone host\n2. cd into `AIAA/OHIF-Orthanc` sub-folders\n3. (optional) edit docker-compose.yml to change/ map the data dir. \nBy default it will be inside the sub-folder. \nYou can simply change the `ConfigLocalPath\u003d./data` in the `.env` file.\n4. Run `./restart.sh`. This will launch this notebooks, OHIF, and orthanc\n5. Basic authentication is provided.  \n",
      "metadata": {
        "pycharm": {
          "metadata": false
        }
      }
    },
    {
      "cell_type": "markdown",
      "source": "### 1.2. Check that everything is running:\nYour main landing page is [yourip:3030/start/](http://localhost:3030/start/). \nUser/password is `clara/clara`. \nTo change this user/password please refer to exercise section below. \nYou should see a page as below with links as listed below \n\u003cbr\u003e\u003cimg src\u003d\"screenShots/OHIFmainPage.png\" alt\u003d\"Drawing\" style\u003d\"height: 300px;\"/\u003e\u003cbr\u003e \n\n  \n1. This Notebooks: \u003c/br\u003e\nGo to your browser at [yourip:3030/notebooks/](http://localhost:3030/notebooks/) \nand use the token printed out after running the `restart.sh` script\n2. OHIF: \u003c/br\u003e \nGo to your browser [yourip:3030](http://localhost:3030/) to see OHIF web page as below\n\u003cbr\u003e\u003cimg src\u003d\"screenShots/OHIFList.png\" alt\u003d\"Drawing\" style\u003d\"height: 300px;\"/\u003e\u003cbr\u003e \n3. Orthanc: \u003c/br\u003e \nGo to your browser at [yourip:3030/pacs-admin/](http://localhost:3030/pacs-admin) to see Orthanc web UI (username/password is orthanc/orthanc) \n\u003cbr\u003e\u003cimg src\u003d\"screenShots/Orthanc.png\" alt\u003d\"Drawing\" style\u003d\"height: 300px;\"/\u003e\u003cbr\u003e ",
      "metadata": {
        "pycharm": {
          "metadata": false
        }
      }
    },
    {
      "cell_type": "markdown",
      "source": "## 2. Download Dicom Studies\n\nOHIF and the back end PACS uses dicom format. \nFor this you need to have a some Dicom studies locally.\nYou can run [TCIA Notebook](../Data/TCIA/TCIADownloader.ipynb) \nwith any of the sample data links. \nFor basic workflow you can stop right after you download the dicom data and unzipping it. \n\nYou should find the downloaded data under `/claraDevDay/Data/\u003cDataname\u003e/DCM/`  \n",
      "metadata": {
        "pycharm": {
          "metadata": false
        }
      }
    },
    {
      "cell_type": "markdown",
      "source": "## 3. Upload a dicom study into the PACS (orthanc)\nNow that you have dicom images, \nwe would want to upload it to our PACS. \nFor this we can use dcmtk library  ",
      "metadata": {
        "pycharm": {
          "metadata": false
        }
      }
    },
    {
      "cell_type": "code",
      "execution_count": null,
      "outputs": [],
      "source": "# install apt-get install dcmtk\n!apt-get -y install dcmtk",
      "metadata": {
        "pycharm": {
          "metadata": false,
          "name": "#%%\n"
        }
      }
    },
    {
      "cell_type": "markdown",
      "source": "As we are using docker compose internal network we can directly upload to orthanc using its intenal name \n`orthanc` and its internal port 4242 ",
      "metadata": {
        "pycharm": {
          "metadata": false
        }
      }
    },
    {
      "cell_type": "code",
      "execution_count": null,
      "outputs": [],
      "source": "!storescu -v +sd +r -xb -v -aet \"fromtest\" -aec \"ORTHANC\" orthanc 4242 /claraDevDay/Data/NSCLC_5/DCM/1.3*",
      "metadata": {
        "pycharm": {
          "metadata": false,
          "name": "#%%\n"
        }
      }
    },
    {
      "cell_type": "markdown",
      "source": "## 4. Start AIAA server \nYou should run the [AIAA Notebook](AIAA.ipynb) and start the AIAA server, then load at least one model. \nWe recommend the 2D deepgrow model as a start.  ",
      "metadata": {
        "pycharm": {
          "metadata": false
        }
      }
    },
    {
      "cell_type": "markdown",
      "source": "## 5. Open OHIF and use AIAA\nNow that we have dicom data in our PACS, you can open OHIF in your browser and click on a patient to view it as below.\n\u003cbr\u003e\u003cimg src\u003d\"screenShots/OHIF.png\" alt\u003d\"Drawing\" style\u003d\"height: 300px;\"/\u003e\u003cbr\u003e \n\n\nNext you need to setup the AIAA plugin (see image below) :\n1. AIAA server url:\n    1. Set to `http://\u003cyourmachineIP\u003e:3030/aiaa/` \n    2. Click refresh icon next to it.\n    3. You should see the models you have loaded in AIAA server.\n2. Setup fetch from pacs:\n    1. Under more AIAA setup\n    2. Check Fetch Images From Dicom Server \n    3. Dicom server \u003d `orthanc:4242`. This is the internal port exposed through docker network\n    4. Set AETitle \u003d `ORTHANC`\n\u003cbr\u003e\u003cimg src\u003d\"screenShots/OHIF-AIAAwRevProxy.png\" alt\u003d\"Drawing\" style\u003d\"height: 300px;\"/\u003e\u003cbr\u003e \n",
      "metadata": {
        "pycharm": {
          "metadata": false
        }
      }
    },
    {
      "cell_type": "markdown",
      "source": "## 6. Stop All\nTo stop all dockers (Notebooks, OHIF and PACS) you should run `./stop.sh`. \n***Note: Running cell below would terminate this notebook***\n",
      "metadata": {
        "pycharm": {
          "metadata": false
        }
      }
    },
    {
      "cell_type": "code",
      "source": "#Note: Running cell below would terminate this notebook\n#!./stop.sh`\n",
      "metadata": {
        "pycharm": {
          "metadata": false,
          "name": "#%%\n"
        }
      },
      "execution_count": null,
      "outputs": []
    },
    {
      "cell_type": "markdown",
      "source": "# Exercise ",
      "metadata": {
        "pycharm": {
          "metadata": false
        }
      }
    },
    {
      "cell_type": "markdown",
      "source": "### 1. Remove user/password\nIn order to have no security at all, you can change the [docker-compose](OHIF-Orthanc/docker-compose.yml) \nto use [nginxNoPassword](OHIF-Orthanc/config/nginxNoPassword.conf) instead of [nginxWPassword](OHIF-Orthanc/config/nginxWPassword.conf) ",
      "metadata": {
        "pycharm": {
          "metadata": false
        }
      }
    },
    {
      "cell_type": "markdown",
      "source": "### 2. Change user/password file\nWe provide basic authentication file [`.htpasswd`](OHIF-Orthanc/config/.htpasswd) \nwith user/password \u003d clara/clara.\nIn order to change this or create a new file altogether, you can run ",
      "metadata": {
        "pycharm": {
          "metadata": false
        }
      }
    },
    {
      "cell_type": "code",
      "source": "htpasswd -c /claraDevDay/AIAA/OHIF-Orthanc/config/.MyNewhtpasswd username1\n# you would be prompt for password then again to confirm it ",
      "metadata": {
        "pycharm": {
          "metadata": false,
          "name": "#%%\n"
        }
      },
      "execution_count": null,
      "outputs": []
    },
    {
      "cell_type": "markdown",
      "source": "To a add another user we can use the same command without `-c` flag as ",
      "metadata": {
        "pycharm": {
          "metadata": false
        }
      }
    },
    {
      "cell_type": "code",
      "execution_count": null,
      "outputs": [],
      "source": "htpasswd /claraDevDay/AIAA/OHIF-Orthanc/config/.MyNewhtpasswd anotherusername2 ",
      "metadata": {
        "pycharm": {
          "metadata": false,
          "name": "#%%\n"
        }
      }
    },
    {
      "cell_type": "markdown",
      "source": "\n### 3. Use https instead of http\nSetup above is using http for simplicity that would work on internal secure network. \nIn order to use this setup on public you should use https to secure communication between client and server. \nFor this we would need to:\n1. Have a ssl certification and key. For this you can:\n    1. Use the sample self certified crt and key files provided  \n    2. Use your own ssl files\n    3. Generate your own self signed by running \n    ```\n    openssl req -x509 -nodes -days 365 -newkey rsa:2048 -keyout /claraDevDay/AIAA/OHIF-Orthanc/config/nginx-selfsigned.key -out /claraDevDay/AIAA/OHIF-Orthanc/config/nginx-selfsigned.crt\n    ```\n    For more options you can follow instructions [here](https://www.digitalocean.com/community/tutorials/how-to-create-a-self-signed-ssl-certificate-for-nginx-in-ubuntu-16-04)\n2. Change the [docker-compose.yml](OHIF-Orthanc/docker-compose.yml) to:\n    1. Map port 443 instead of port 80 \n    2. Map the crt and key files.\n    3. Use [`nginxHttpsWPassword.conf`](OHIF-Orthanc/config/nginxHttpsWPassword.conf)",
      "metadata": {
        "pycharm": {
          "metadata": false
        }
      }
    },
    {
      "cell_type": "markdown",
      "source": "If you use self signed certification would would get warnings on your first access as shown below. \nYou would need to click `Advanced` then click `Proceed to _____ (unsafe)` link as shown below\n\n\u003cbr\u003e\u003cimg src\u003d\"screenShots/httpsWarning.png\" alt\u003d\"Drawing\" style\u003d\"height: 300px;\"/\u003e\u003cbr\u003e \n",
      "metadata": {
        "pycharm": {
          "metadata": false
        }
      }
    }
  ],
  "metadata": {
    "language_info": {
      "codemirror_mode": {
        "name": "ipython",
        "version": 2
      },
      "file_extension": ".py",
      "mimetype": "text/x-python",
      "name": "python",
      "nbconvert_exporter": "python",
      "pygments_lexer": "ipython2",
      "version": "2.7.6"
    },
    "kernelspec": {
      "name": "pycharm-e5c8d846",
      "language": "python",
      "display_name": "PyCharm (claraTrain2.0)"
    },
    "stem_cell": {
      "cell_type": "raw",
      "source": "\u003c!--- SPDX-License-Identifier: Apache-2.0 --\u003e\n",
      "metadata": {
        "pycharm": {
          "metadata": false
        }
      }
    }
  },
  "nbformat": 4,
  "nbformat_minor": 0
}