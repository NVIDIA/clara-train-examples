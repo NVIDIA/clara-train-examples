{
 "cells": [
  {
   "cell_type": "markdown",
   "metadata": {
    "pycharm": {
     "name": "#%% md\n"
    }
   },
   "source": [
    "# Clara Train SDK Hyper Parameter Tuning Using AutoML\n",
    "\n",
    "By the end of this notebook you should be able to:\n",
    "1. Run AutoML and use it as a scheduler for hyper-parameter tuning to search:\n",
    "    1. Network architecture.\n",
    "    2. loss functions \n",
    "    3. Optimizers\n",
    "    4. Transformations\n",
    "2. Run AutoML with reinforcement learning to search float parameters such as:\n",
    "    1. Learning rate\n",
    "    2. Transformation probabilities and ranges\n",
    "\n",
    "AutoML is based on publication below: \n",
    "- Searching Learning Strategy with Reinforcement Learning for 3D Medical Image Segmentation. MICCAI 2019. https://arxiv.org/pdf/2006.05847.pdf\n",
    "- C2FNAS: Coarse-to-Fine Neural Architecture Search for 3D Medical Image Segmentation https://arxiv.org/pdf/1912.09628.pdf\n"
   ]
  },
  {
   "cell_type": "markdown",
   "metadata": {
    "pycharm": {
     "metadata": false
    }
   },
   "source": [
    "## Prerequisites\n",
    "- Familiar with Clara train main concepts. See [Getting Started Notebook](../GettingStarted/GettingStarted.ipynb)\n",
    "- Nvidia GPU with 8Gb of memory  \n",
    "- Have multiple GPUs is preferred   \n"
   ]
  },
  {
   "cell_type": "markdown",
   "metadata": {
    "pycharm": {
     "metadata": false
    }
   },
   "source": [
    "## Resources\n",
    "You could watch the free GTC 2021 talks covering Clara Train SDK\n",
    "- [Clara Train 4.0 - 101 Getting Started [SE2688]](https://gtc21.event.nvidia.com/media/Clara%20Train%204.0%20-%20101%20Getting%20Started%20%5BSE2688%5D/1_0qgfrql2)\n",
    "- [What’s New in Clara Train 4.0 [D3114]](https://gtc21.event.nvidia.com/media/What%E2%80%99s%20New%20in%20Clara%20Train%204.0%20%5BD3114%5D/1_umvjidt2)\n",
    "- [Take Medical AI from Concept to Production using Clara Imaging [S32482]](https://gtc21.event.nvidia.com/media/Take%20Medical%20AI%20from%20Concept%20to%20Production%20using%20Clara%20Imaging%20%20%5BS32482%5D/1_6bvnvyg7)\n",
    "- [Get Started Now on Medical Imaging AI with Clara Train on Google Cloud Platform [S32518]](https://gtc21.event.nvidia.com/media/Get%20Started%20Now%20on%20Medical%20Imaging%20AI%20with%20Clara%20Train%20on%20Google%20Cloud%20Platform%20%5BS32518%5D/1_2yjdekmi)\n",
    "- [Automate 3D Medical Imaging Segmentation with AutoML and Neural Architecture Search [S32083]](https://gtc21.event.nvidia.com/media/Automate%203D%20Medical%20Imaging%20Segmentation%20with%20AutoML%20and%20Neural%20Architecture%20Search%20%5BS32083%5D/1_r5swh2jn)\n"
   ]
  },
  {
   "cell_type": "markdown",
   "metadata": {
    "pycharm": {
     "metadata": false
    }
   },
   "source": [
    "## Dataset \n",
    "This notebook uses a sample dataset (ie. a single image volume of the spleen dataset) provided in the package to train a small neural network for a few epochs. \n",
    "This single file is duplicated 32 times for the training set and 9 times for validation to mimic the full spleen data set. \n"
   ]
  },
  {
   "cell_type": "markdown",
   "metadata": {
    "pycharm": {
     "metadata": false,
     "name": "#%% md\n"
    }
   },
   "source": [
    "# Lets get started\n",
    "It might be helpful to check the available NVIDIA GPU resources in the docker by running the cell below"
   ]
  },
  {
   "cell_type": "code",
   "execution_count": null,
   "metadata": {
    "pycharm": {
     "metadata": false,
     "name": "#%%\n"
    }
   },
   "outputs": [],
   "source": [
    "# following command should show all gpus available \n",
    "!nvidia-smi"
   ]
  },
  {
   "cell_type": "markdown",
   "metadata": {
    "pycharm": {
     "metadata": false
    }
   },
   "source": [
    "This cell we define the root path for AutoML"
   ]
  },
  {
   "cell_type": "code",
   "execution_count": null,
   "metadata": {
    "pycharm": {
     "metadata": false,
     "name": "#%%\n"
    }
   },
   "outputs": [],
   "source": [
    "MMAR_ROOT=\"/claraDevDay/AutoML/\"\n",
    "print (\"setting MMAR_ROOT=\",MMAR_ROOT)\n",
    "%ls $MMAR_ROOT"
   ]
  },
  {
   "cell_type": "markdown",
   "metadata": {
    "pycharm": {
     "metadata": false,
     "name": "#%% md\n"
    }
   },
   "source": [
    "\n",
    "This cell defines some helper functions that we will use throughout the notebook"
   ]
  },
  {
   "cell_type": "code",
   "execution_count": null,
   "metadata": {
    "pycharm": {
     "metadata": false,
     "name": "#%%\n"
    }
   },
   "outputs": [],
   "source": [
    "!chmod 777 $MMAR_ROOT/commands/*\n",
    "def runAutoML(configPath):\n",
    "    %cd $MMAR_ROOT/commands\n",
    "    ! ./automl.sh $configPath\n",
    "def printFile(filePath,lnSt,lnOffset):\n",
    "    print (\"showing \",str(lnOffset),\" lines from file \",filePath, \"starting at line\",str(lnSt))\n",
    "    lnOffset=lnSt+lnOffset\n",
    "    !< $filePath head -n \"$lnOffset\" | tail -n +\"$lnSt\""
   ]
  },
  {
   "cell_type": "markdown",
   "metadata": {
    "pycharm": {
     "metadata": false,
     "name": "#%% md\n"
    }
   },
   "source": [
    "\n",
    " # AutoML Main Components\n",
    "- [automl.sh](./commands/automl.sh) is where we configure the number of workers and which gpus to use. \n",
    "In this notebook we will use very small neural networks that will consume <2GB of GPU memory. \n",
    "We are setting the number of workers to 8 and they will all use GPU 0 by specifying \n",
    "`workers=0:0:0:0:0:0:0:0`. \n",
    "If you have multiple GPU and would like to have more workers you could change this to:\n",
    "    - `workers=0:0:0:0:1:1:1:1` this will let workers 0-3 use GPU 0 while workers 4-7 will use GPU 1\n",
    "    - `workers=0:1:2:3` this will let 4 workers each use a GPU\n",
    "    - `workers=0,1:2,3` this will let 2 workers each use a 2 GPUs\n",
    "\n",
    "lets check out the contents of [automl.sh](commands/automl.sh)"
   ]
  },
  {
   "cell_type": "code",
   "execution_count": null,
   "metadata": {
    "pycharm": {
     "metadata": false,
     "name": "#%%\n"
    }
   },
   "outputs": [],
   "source": [
    "configFile=MMAR_ROOT+\"/commands/automl.sh\"\n",
    "printFile(configFile,0,30)"
   ]
  },
  {
   "cell_type": "markdown",
   "metadata": {
    "pycharm": {
     "metadata": false
    }
   },
   "source": [
    "- [config_automl.json](./config/config_automl.json) is where any custom controls would be defined \n",
    "along with maximum number of MMARs to search and the number of MMARs to keep"
   ]
  },
  {
   "cell_type": "code",
   "execution_count": null,
   "metadata": {
    "pycharm": {
     "metadata": false,
     "name": "#%%\n"
    }
   },
   "outputs": [],
   "source": [
    "configFile=MMAR_ROOT+\"/config/config_automl.json\"\n",
    "printFile(configFile,0,30)"
   ]
  },
  {
   "cell_type": "markdown",
   "metadata": {
    "pycharm": {
     "metadata": false
    }
   },
   "source": [
    "\n",
    "- [automl_train_round.sh](./commands/automl_train_round.sh) is the script which will be triggered for each job  \n"
   ]
  },
  {
   "cell_type": "code",
   "execution_count": null,
   "metadata": {
    "pycharm": {
     "metadata": false,
     "name": "#%%\n"
    }
   },
   "outputs": [],
   "source": [
    "configFile=MMAR_ROOT+\"/commands/automl_train_round.sh\"\n",
    "printFile(configFile,0,30)"
   ]
  },
  {
   "cell_type": "markdown",
   "metadata": {
    "pycharm": {
     "metadata": false
    }
   },
   "source": [
    "\n",
    "# Using Auto ML for Hyper Parameter Enum Search\n",
    "\n",
    "You can use AutoML as a scheduler to run multiple configurations using the Enum options.\n",
    "<br><img src=\"screenShots/AutoMLEnum.png\" alt=\"Drawing\" style=\"height: 400px;\"/>\n"
   ]
  },
  {
   "cell_type": "markdown",
   "metadata": {
    "pycharm": {
     "metadata": false
    }
   },
   "source": [
    "### Example 1: Network Parameter Search\n",
    "In this example, we are using the Enum option to search different network\n",
    " architecture arguments for the Unet and also learning rate.\n",
    "For this we use [trn_autoML_Enum.json](./config/trn_autoML_Enum.json) to set Enum for:\n",
    "- Blocks_down, blocks_up\n",
    "- feature normalization type\n",
    "- ReducePoly of the learning rate scheduler \n"
   ]
  },
  {
   "cell_type": "code",
   "execution_count": null,
   "metadata": {
    "pycharm": {
     "metadata": false,
     "name": "#%%\n"
    }
   },
   "outputs": [],
   "source": [
    "# lets see how to define this in the config\n",
    "configFile=MMAR_ROOT+\"/config/trn_autoML_Enum.json\"\n",
    "printFile(configFile,46,20)\n",
    "# we also search different lr policies \n",
    "printFile(configFile,28,13)"
   ]
  },
  {
   "cell_type": "markdown",
   "metadata": {
    "pycharm": {
     "metadata": false,
     "name": "#%% md\n"
    }
   },
   "source": [
    "let  us run it a see the generated configurations\n"
   ]
  },
  {
   "cell_type": "code",
   "execution_count": null,
   "metadata": {
    "pycharm": {
     "metadata": false,
     "name": "#%% \n"
    }
   },
   "outputs": [],
   "source": [
    "runAutoML(\"trn_autoML_Enum\")"
   ]
  },
  {
   "cell_type": "markdown",
   "metadata": {
    "pycharm": {
     "metadata": false,
     "name": "#%% md\n"
    }
   },
   "source": [
    "\n",
    "AutoML now has created a sub-folder under automl/  and created 8 folders for all combinations of our experiments. \n",
    "Let us run the cell below and see the folders created  "
   ]
  },
  {
   "cell_type": "code",
   "execution_count": null,
   "metadata": {
    "pycharm": {
     "metadata": false,
     "name": "#%%\n"
    }
   },
   "outputs": [],
   "source": [
    "! ls -la $MMAR_ROOT/automl/trn_autoML_Enum"
   ]
  },
  {
   "cell_type": "markdown",
   "metadata": {
    "pycharm": {
     "metadata": false
    }
   },
   "source": [
    "\n",
    "Lets check the log from the first worker "
   ]
  },
  {
   "cell_type": "code",
   "execution_count": null,
   "metadata": {
    "pycharm": {
     "metadata": false,
     "name": "#%%\n"
    }
   },
   "outputs": [],
   "source": [
    "!tail $MMAR_ROOT/automl/trn_autoML_Enum/W1_1_J1/log.txt\n"
   ]
  },
  {
   "cell_type": "markdown",
   "metadata": {
    "pycharm": {
     "metadata": false
    }
   },
   "source": [
    "Let us now examine each config generated from the a couple of experiments"
   ]
  },
  {
   "cell_type": "code",
   "execution_count": null,
   "metadata": {
    "pycharm": {
     "metadata": false,
     "name": "#%%\n"
    }
   },
   "outputs": [],
   "source": [
    "exp_name=\"trn_autoML_Enum\"\n",
    "for i in range(1,3):\n",
    "    configFile=MMAR_ROOT+\"/automl/\"+exp_name+\"/W\"+str(i)+\"_1_J\"+str(i)+\"/config/config_train.json\"\n",
    "    printFile(configFile,32,5)\n",
    "for i in range(1,6,2):\n",
    "    configFile=MMAR_ROOT+\"/automl/\"+exp_name+\"/W\"+str(i)+\"_1_J\"+str(i)+\"/config/config_train.json\"\n",
    "    printFile(configFile,38,12)"
   ]
  },
  {
   "cell_type": "markdown",
   "metadata": {
    "pycharm": {
     "metadata": false
    }
   },
   "source": [
    "\n",
    "### Example 2: Loss and optimizer Search   \n",
    "In this Example we are using the Enum option to search different losses \n",
    " using [trn_autoML_Loss_Optimizer.json](./config/trn_autoML_Loss_Optimizer.json). \n",
    " In order to do this we \n",
    "- use first level search to create an binary Enum tag set to `[true, false]` \n",
    "- apply the first tag to loss\n",
    "- apply the second tag to optimizer  \n",
    "\n",
    "as shown in image below \n",
    "<br><img src=\"screenShots/ConfigLossOptSearch.png\" alt=\"Drawing\" style=\"height: 400px;width: 300px\"/><br>    \n"
   ]
  },
  {
   "cell_type": "code",
   "execution_count": null,
   "metadata": {
    "pycharm": {
     "metadata": false,
     "name": "#%%\n"
    }
   },
   "outputs": [],
   "source": [
    "# lets see how to define this in the config\n",
    "configFile=MMAR_ROOT+\"/config/trn_autoML_Loss_Optimizer.json\"\n",
    "# top level binary Enum\n",
    "printFile(configFile,8,14)\n",
    "# apply to loss\n",
    "printFile(configFile,25,5)\n",
    "# apply to optimizer \n",
    "printFile(configFile,32,5)"
   ]
  },
  {
   "cell_type": "code",
   "execution_count": null,
   "metadata": {
    "pycharm": {
     "metadata": false,
     "name": "#%%\n"
    }
   },
   "outputs": [],
   "source": [
    "# lets run it a see configurations generated \n",
    "runAutoML(\"trn_autoML_Loss_Optimizer\")"
   ]
  },
  {
   "cell_type": "markdown",
   "metadata": {
    "pycharm": {
     "metadata": false,
     "name": "#%% md\n"
    }
   },
   "source": [
    "\n",
    "Lets run cell below and see the folders created"
   ]
  },
  {
   "cell_type": "code",
   "execution_count": null,
   "metadata": {
    "pycharm": {
     "metadata": false,
     "name": "#%%\n"
    }
   },
   "outputs": [],
   "source": [
    "! ls -la $MMAR_ROOT/automl/trn_autoML_Loss_Optimizer"
   ]
  },
  {
   "cell_type": "markdown",
   "metadata": {
    "pycharm": {
     "metadata": false
    }
   },
   "source": [
    "\n",
    "Lets check the log from the first worker "
   ]
  },
  {
   "cell_type": "code",
   "execution_count": null,
   "metadata": {
    "pycharm": {
     "metadata": false,
     "name": "#%%\n"
    }
   },
   "outputs": [],
   "source": [
    "!tail $MMAR_ROOT/automl/trn_autoML_Loss_Optimizer/W1_1_J1/log.txt"
   ]
  },
  {
   "cell_type": "markdown",
   "metadata": {
    "pycharm": {
     "metadata": false
    }
   },
   "source": [
    "\n",
    "Lets now examine each config generated from the a couple of experiments"
   ]
  },
  {
   "cell_type": "code",
   "execution_count": null,
   "metadata": {
    "pycharm": {
     "metadata": false,
     "name": "#%%\n"
    }
   },
   "outputs": [],
   "source": [
    "exp_name=\"trn_autoML_Loss_Optimizer\"\n",
    "for i in [1,2]:\n",
    "    configFile=MMAR_ROOT+\"/automl/\"+exp_name+\"/W\"+str(i)+\"_1_J\"+str(i)+\"/config/config_train.json\"\n",
    "    printFile(configFile,9,16)\n",
    "for i in [1,3]:\n",
    "    configFile=MMAR_ROOT+\"/automl/\"+exp_name+\"/W\"+str(i)+\"_1_J\"+str(i)+\"/config/config_train.json\"\n",
    "    printFile(configFile,25,12)"
   ]
  },
  {
   "cell_type": "markdown",
   "metadata": {
    "pycharm": {
     "metadata": false
    }
   },
   "source": [
    "\n",
    "# Using Auto ML for float parameter using reinforcement learning (RL)\n",
    "So far we have used only the Enum option of AutoML. But what if we have a float value? \n",
    "We now will set a range in the search space and use reinforcement learning (RL).\n",
    "\n",
    "<br><img src=\"screenShots/RL.png\" alt=\"Drawing\" style=\"height: 400px;\"/><br>    \n"
   ]
  },
  {
   "cell_type": "markdown",
   "metadata": {
    "pycharm": {
     "metadata": false
    }
   },
   "source": [
    "### Example 3: Learning Rate and Learning Policy (RL) Search\n",
    "In this Example we will use [trn_autoML_LR_LP.json](./config/trn_autoML_LR_LP.json). \n",
    " In order to do this we \n",
    "- Use first level search learning rate \n",
    "- Search for learning policy   \n",
    "\n",
    "Note that this will only use 1 worker since we will run a model wait for result then trigger another."
   ]
  },
  {
   "cell_type": "code",
   "execution_count": null,
   "metadata": {
    "pycharm": {
     "metadata": false,
     "name": "#%%\n"
    }
   },
   "outputs": [],
   "source": [
    "# lets see how to define this in the config\n",
    "configFile=MMAR_ROOT+\"/config/trn_autoML_LR_LP.json\"\n",
    "# top level search for learning rate\n",
    "printFile(configFile,8,10)\n",
    "# search for learning policy \n",
    "printFile(configFile,40,10)"
   ]
  },
  {
   "cell_type": "code",
   "execution_count": null,
   "metadata": {
    "pycharm": {
     "metadata": false,
     "name": "#%%\n"
    }
   },
   "outputs": [],
   "source": [
    "# lets run it a see configurations generated \n",
    "runAutoML(\"trn_autoML_LR_LP\")"
   ]
  },
  {
   "cell_type": "markdown",
   "metadata": {
    "pycharm": {
     "metadata": false
    }
   },
   "source": [
    "Lets run cell below and see the folders created"
   ]
  },
  {
   "cell_type": "code",
   "execution_count": null,
   "metadata": {
    "pycharm": {
     "metadata": false,
     "name": "#%%\n"
    }
   },
   "outputs": [],
   "source": [
    "! ls -la $MMAR_ROOT/automl/trn_autoML_LR_LP"
   ]
  },
  {
   "cell_type": "markdown",
   "metadata": {
    "pycharm": {
     "metadata": false
    }
   },
   "source": [
    "\n",
    "Lets check the log from the first worker "
   ]
  },
  {
   "cell_type": "code",
   "execution_count": null,
   "metadata": {
    "pycharm": {
     "metadata": false,
     "name": "#%%\n"
    }
   },
   "outputs": [],
   "source": [
    "!tail $MMAR_ROOT/automl/trn_autoML_LR_LP/W1_1_J1/log.txt"
   ]
  },
  {
   "cell_type": "markdown",
   "metadata": {
    "pycharm": {
     "metadata": false
    }
   },
   "source": [
    "Lets now examine each config generated from the a couple of experiments"
   ]
  },
  {
   "cell_type": "code",
   "execution_count": null,
   "metadata": {
    "pycharm": {
     "metadata": false,
     "name": "#%%\n"
    }
   },
   "outputs": [],
   "source": [
    "exp_name=\"trn_autoML_LR_LP\"\n",
    "for i in range(2,5):\n",
    "    configFile=MMAR_ROOT+\"/automl/\"+exp_name+\"/W\"+str(i)+\"_1_J\"+str(i)+\"/config/config_train.json\"\n",
    "    printFile(configFile,5,2)\n",
    "for i in range(2,6,1):\n",
    "    configFile=MMAR_ROOT+\"/automl/\"+exp_name+\"/W\"+str(i)+\"_1_J\"+str(i)+\"/config/config_train.json\"\n",
    "    printFile(configFile,32,4)"
   ]
  },
  {
   "cell_type": "markdown",
   "metadata": {
    "pycharm": {
     "metadata": false
    }
   },
   "source": [
    "\n",
    "\n",
    "### Example 4: Transformation Search   \n",
    "In this Example we are using Enum option to search different transforms \n",
    "using [trn_autoML_Transform.json](./config/trn_autoML_Transform.json). \n",
    "Here, we will use Enum to enable/disable `AddGaussianNoise` transform and also use top level Enum \n",
    "to link 2 transforms to be enabled/disabled together. \n",
    "In order to do this we \n",
    "- Use first level search to create an binary Enum tag set to `[true, false]` and \n",
    "tag it with args `myTransformDisable` \n",
    "- Apply this tag `myTransformDisable` to transforms `RandomSpatialFlip`\n",
    "- Apply this tag `myTransformDisable` to transforms `ScaleShiftIntensity`\n",
    "- Add `search` section to `AddGaussianNoise` with a `\"args\": [\"@disabled\"]` and `\"targets\": [[true],[false]]`"
   ]
  },
  {
   "cell_type": "code",
   "execution_count": null,
   "metadata": {
    "pycharm": {
     "metadata": false,
     "name": "#%%\n"
    }
   },
   "outputs": [],
   "source": [
    "# lets see how to define this in the config\n",
    "configFile=MMAR_ROOT+\"/config/trn_autoML_Transform.json\"\n",
    "# top level binary Enum\n",
    "printFile(configFile,8,14)\n",
    "# apply to 1st transform\n",
    "printFile(configFile,115,10)\n",
    "# apply to 2nd transform \n",
    "printFile(configFile,126,10)\n",
    "# Add separate search for AddGaussianNoise transform \n",
    "printFile(configFile,140,12)"
   ]
  },
  {
   "cell_type": "code",
   "execution_count": null,
   "metadata": {
    "pycharm": {
     "metadata": false,
     "name": "#%%\n"
    }
   },
   "outputs": [],
   "source": [
    "# lets run it a see configurations generated \n",
    "runAutoML(\"trn_autoML_Transform\")"
   ]
  },
  {
   "cell_type": "markdown",
   "metadata": {
    "pycharm": {
     "metadata": false
    }
   },
   "source": [
    "Let us run cell below and see the folders created"
   ]
  },
  {
   "cell_type": "code",
   "execution_count": null,
   "metadata": {
    "pycharm": {
     "metadata": false,
     "name": "#%%\n"
    }
   },
   "outputs": [],
   "source": [
    "! ls -la $MMAR_ROOT/automl/trn_autoML_Transform"
   ]
  },
  {
   "cell_type": "markdown",
   "metadata": {
    "pycharm": {
     "metadata": false
    }
   },
   "source": [
    "\n",
    "Lets check the log from the first worker "
   ]
  },
  {
   "cell_type": "code",
   "execution_count": null,
   "metadata": {
    "pycharm": {
     "metadata": false,
     "name": "#%%\n"
    }
   },
   "outputs": [],
   "source": [
    "!tail $MMAR_ROOT/automl/trn_autoML_Transform/W1_1_J1/log.txt"
   ]
  },
  {
   "cell_type": "markdown",
   "metadata": {
    "pycharm": {
     "metadata": false
    }
   },
   "source": [
    "\n",
    "Let us now examine each config generated from the a couple of experiments"
   ]
  },
  {
   "cell_type": "code",
   "execution_count": null,
   "metadata": {
    "pycharm": {
     "metadata": false,
     "name": "#%%\n"
    }
   },
   "outputs": [],
   "source": [
    "exp_name=\"trn_autoML_Transform\"\n",
    "for i in range(1,5):\n",
    "    configFile=MMAR_ROOT+\"/automl/\"+exp_name+\"/W\"+str(i)+\"_1_J\"+str(i)+\"/config/config_train.json\"\n",
    "    printFile(configFile,125,16)\n",
    "for i in range(1,4,2):\n",
    "    configFile=MMAR_ROOT+\"/automl/\"+exp_name+\"/W\"+str(i)+\"_1_J\"+str(i)+\"/config/config_train.json\"\n",
    "    printFile(configFile,153,7) "
   ]
  },
  {
   "cell_type": "markdown",
   "metadata": {
    "pycharm": {
     "metadata": false
    }
   },
   "source": [
    "\n",
    "### Example 5: Transform Reinforcement Learning (RL) Search with linking   \n",
    "In this Example we are using RL option to search float parameter as well as linking these parameters between 2 transforms \n",
    " using [trn_autoML_TransformProb.json](./config/trn_autoML_TransformProb.json). \n",
    " In order to do this we \n",
    "- Set a search in the first transformation `ScaleIntensityOscillation`\n",
    "- Give this transform `ScaleIntensityOscillation` an alias like `myProb` \n",
    "- Apply this alias to the second transform `AddGaussianNoise` using the `apply` field \n"
   ]
  },
  {
   "cell_type": "code",
   "execution_count": null,
   "metadata": {
    "pycharm": {
     "metadata": false,
     "name": "#%%\n"
    }
   },
   "outputs": [],
   "source": [
    "# lets see how to define this in the config\n",
    "configFile=MMAR_ROOT+\"/config/trn_autoML_TransformProb.json\"\n",
    "# Search first transformation ScaleIntensityOscillation and give a tag\n",
    "printFile(configFile,120,15)\n",
    "# apply to AddGaussianNoise transformation \n",
    "printFile(configFile,134,9)"
   ]
  },
  {
   "cell_type": "code",
   "execution_count": null,
   "metadata": {
    "pycharm": {
     "metadata": false,
     "name": "#%%\n"
    }
   },
   "outputs": [],
   "source": [
    "# lets run it a see configurations generated \n",
    "runAutoML(\"trn_autoML_TransformProb\")"
   ]
  },
  {
   "cell_type": "markdown",
   "metadata": {
    "pycharm": {
     "metadata": false
    }
   },
   "source": [
    "\n",
    "Let us run cell below and see the folders created"
   ]
  },
  {
   "cell_type": "code",
   "execution_count": null,
   "metadata": {
    "pycharm": {
     "metadata": false,
     "name": "#%%\n"
    }
   },
   "outputs": [],
   "source": [
    "! ls -la $MMAR_ROOT/automl/trn_autoML_TransformProb"
   ]
  },
  {
   "cell_type": "markdown",
   "metadata": {
    "pycharm": {
     "metadata": false
    }
   },
   "source": [
    "\n",
    "Lets check the log from the first worker "
   ]
  },
  {
   "cell_type": "code",
   "execution_count": null,
   "metadata": {
    "pycharm": {
     "metadata": false,
     "name": "#%%\n"
    }
   },
   "outputs": [],
   "source": [
    "!tail $MMAR_ROOT/automl/trn_autoML_TransformProb/W1_1_J1/log.txt\n"
   ]
  },
  {
   "cell_type": "markdown",
   "metadata": {
    "pycharm": {
     "metadata": false
    }
   },
   "source": [
    "Let us now examine each config generated from the a couple of experiments"
   ]
  },
  {
   "cell_type": "code",
   "execution_count": null,
   "metadata": {
    "pycharm": {
     "metadata": false,
     "name": "#%%\n"
    }
   },
   "outputs": [],
   "source": [
    "exp_name=\"trn_autoML_TransformProb\"\n",
    "for i in range(2,7):\n",
    "    configFile=MMAR_ROOT+\"/automl/\"+exp_name+\"/W\"+str(i)+\"_1_J\"+str(i)+\"/config/config_train.json\"\n",
    "    printFile(configFile,144,16)    "
   ]
  },
  {
   "cell_type": "markdown",
   "metadata": {
    "pycharm": {
     "metadata": false
    }
   },
   "source": [
    "\n",
    "# Bring Your Own AutoML Component \n",
    "As you could BYOC for regular components in train configuration, \n",
    "you could also bring your own AutoML logic. \n",
    "For this you should check out [Bring your Own AutoML Component Notebook](AutoML_BYOC.ipynb)\n"
   ]
  },
  {
   "cell_type": "markdown",
   "metadata": {
    "pycharm": {
     "metadata": false
    }
   },
   "source": [
    "\n",
    "# Exercise\n",
    "1. You can use BYO `ScaleIntensityRange` transformation created in Example 1 in [BYOC notebook](../GettingStarted/BYOC.ipynb)\n",
    "to do a search on BYO Transform. _Hint: you must use ref in the validation transforms to use the same values as in the training transforms_ \n",
    "2. You should change different parameters of automl and do more search  \n",
    "3. You can now change / rename the config_automl.json to point to the custom controller and try using it.\n"
   ]
  }
 ],
 "metadata": {
  "kernelspec": {
   "display_name": "Python 3",
   "language": "python",
   "name": "python3"
  },
  "language_info": {
   "codemirror_mode": {
    "name": "ipython",
    "version": 3
   },
   "file_extension": ".py",
   "mimetype": "text/x-python",
   "name": "python",
   "nbconvert_exporter": "python",
   "pygments_lexer": "ipython3",
   "version": "3.8.12"
  },
  "stem_cell": {
   "cell_type": "raw",
   "metadata": {
    "pycharm": {
     "metadata": false
    }
   },
   "source": "<!--- SPDX-License-Identifier: Apache-2.0 -->\n"
  }
 },
 "nbformat": 4,
 "nbformat_minor": 4
}
